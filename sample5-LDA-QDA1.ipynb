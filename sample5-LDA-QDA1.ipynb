{
 "cells": [
  {
   "cell_type": "code",
   "execution_count": 1,
   "id": "cd6871db",
   "metadata": {},
   "outputs": [],
   "source": [
    "import numpy as np\n",
    "import pandas as pd\n",
    "from sklearn.discriminant_analysis import LinearDiscriminantAnalysis, QuadraticDiscriminantAnalysis\n",
    "from sklearn.naive_bayes import GaussianNB\n",
    "from sklearn.decomposition import PCA\n",
    "from sklearn.preprocessing import StandardScaler\n",
    "from sklearn.model_selection import train_test_split, RepeatedKFold, cross_val_score, GridSearchCV\n",
    "import statsmodels.formula.api as smf\n",
    "import statsmodels.api as sm\n",
    "from sklearn.metrics import accuracy_score, confusion_matrix\n",
    "import matplotlib.pyplot as plt\n",
    "import seaborn as sns"
   ]
  },
  {
   "cell_type": "code",
   "execution_count": 2,
   "id": "98694eb6",
   "metadata": {},
   "outputs": [
    {
     "name": "stdout",
     "output_type": "stream",
     "text": [
      "Dimension of the data: (400, 9)\n"
     ]
    },
    {
     "data": {
      "text/html": [
       "<div>\n",
       "<style scoped>\n",
       "    .dataframe tbody tr th:only-of-type {\n",
       "        vertical-align: middle;\n",
       "    }\n",
       "\n",
       "    .dataframe tbody tr th {\n",
       "        vertical-align: top;\n",
       "    }\n",
       "\n",
       "    .dataframe thead th {\n",
       "        text-align: right;\n",
       "    }\n",
       "</style>\n",
       "<table border=\"1\" class=\"dataframe\">\n",
       "  <thead>\n",
       "    <tr style=\"text-align: right;\">\n",
       "      <th></th>\n",
       "      <th>Income</th>\n",
       "      <th>Cards</th>\n",
       "      <th>Age</th>\n",
       "      <th>Education</th>\n",
       "      <th>Gender</th>\n",
       "      <th>Student</th>\n",
       "      <th>Married</th>\n",
       "      <th>Ethnicity</th>\n",
       "      <th>Balance_bin</th>\n",
       "    </tr>\n",
       "  </thead>\n",
       "  <tbody>\n",
       "    <tr>\n",
       "      <th>0</th>\n",
       "      <td>14.891</td>\n",
       "      <td>2</td>\n",
       "      <td>34</td>\n",
       "      <td>11</td>\n",
       "      <td>Male</td>\n",
       "      <td>No</td>\n",
       "      <td>Yes</td>\n",
       "      <td>Caucasian</td>\n",
       "      <td>0</td>\n",
       "    </tr>\n",
       "    <tr>\n",
       "      <th>1</th>\n",
       "      <td>106.025</td>\n",
       "      <td>3</td>\n",
       "      <td>82</td>\n",
       "      <td>15</td>\n",
       "      <td>Female</td>\n",
       "      <td>Yes</td>\n",
       "      <td>Yes</td>\n",
       "      <td>Asian</td>\n",
       "      <td>1</td>\n",
       "    </tr>\n",
       "    <tr>\n",
       "      <th>2</th>\n",
       "      <td>104.593</td>\n",
       "      <td>4</td>\n",
       "      <td>71</td>\n",
       "      <td>11</td>\n",
       "      <td>Male</td>\n",
       "      <td>No</td>\n",
       "      <td>No</td>\n",
       "      <td>Asian</td>\n",
       "      <td>1</td>\n",
       "    </tr>\n",
       "    <tr>\n",
       "      <th>3</th>\n",
       "      <td>148.924</td>\n",
       "      <td>3</td>\n",
       "      <td>36</td>\n",
       "      <td>11</td>\n",
       "      <td>Female</td>\n",
       "      <td>No</td>\n",
       "      <td>No</td>\n",
       "      <td>Asian</td>\n",
       "      <td>1</td>\n",
       "    </tr>\n",
       "    <tr>\n",
       "      <th>4</th>\n",
       "      <td>55.882</td>\n",
       "      <td>2</td>\n",
       "      <td>68</td>\n",
       "      <td>16</td>\n",
       "      <td>Male</td>\n",
       "      <td>No</td>\n",
       "      <td>Yes</td>\n",
       "      <td>Caucasian</td>\n",
       "      <td>0</td>\n",
       "    </tr>\n",
       "  </tbody>\n",
       "</table>\n",
       "</div>"
      ],
      "text/plain": [
       "    Income  Cards  Age  Education  Gender Student Married  Ethnicity  \\\n",
       "0   14.891      2   34         11    Male      No     Yes  Caucasian   \n",
       "1  106.025      3   82         15  Female     Yes     Yes      Asian   \n",
       "2  104.593      4   71         11    Male      No      No      Asian   \n",
       "3  148.924      3   36         11  Female      No      No      Asian   \n",
       "4   55.882      2   68         16    Male      No     Yes  Caucasian   \n",
       "\n",
       "  Balance_bin  \n",
       "0           0  \n",
       "1           1  \n",
       "2           1  \n",
       "3           1  \n",
       "4           0  "
      ]
     },
     "execution_count": 2,
     "metadata": {},
     "output_type": "execute_result"
    }
   ],
   "source": [
    "Credit = pd.read_csv(\"C:/Users/arab/Downloads/Credit.csv\")\n",
    "Credit['Balance_bin'] = pd.cut(Credit.Balance, bins=[-1,460,2000],labels=['0','1'])\n",
    "Credit = Credit.drop(['ID', 'Balance', 'Limit', 'Rating'], axis=1)\n",
    "print('Dimension of the data: ' + str(Credit.shape))\n",
    "Credit.head()"
   ]
  },
  {
   "cell_type": "markdown",
   "id": "cecadecb",
   "metadata": {},
   "source": [
    "Classification: Fit an LDA with Balance_bin as response:"
   ]
  },
  {
   "cell_type": "code",
   "execution_count": 3,
   "id": "03a66cb9",
   "metadata": {},
   "outputs": [
    {
     "name": "stdout",
     "output_type": "stream",
     "text": [
      "Mean Accuracy for LDA: 0.629 (0.093)\n"
     ]
    }
   ],
   "source": [
    "# data: dropping the credit-card related features (Limit & Rating) to make the classification problem more challenging\n",
    "X = pd.get_dummies(Credit.drop(['Balance_bin'], axis=1))\n",
    "y = Credit['Balance_bin']\n",
    "# CV\n",
    "cv = RepeatedKFold(n_splits=10, n_repeats=3, random_state=1)\n",
    "\n",
    "# define model\n",
    "LDA_mod = LinearDiscriminantAnalysis()\n",
    "# evaluate model\n",
    "LDA_scores = cross_val_score(LDA_mod, X, y, scoring='accuracy', cv=cv, n_jobs=-1)\n",
    "# summarize result\n",
    "print('Mean Accuracy for LDA: %.3f (%.3f)' % (np.mean(LDA_scores), np.std(LDA_scores)))\n",
    "     "
   ]
  },
  {
   "cell_type": "markdown",
   "id": "af10c780",
   "metadata": {},
   "source": [
    "Classification: Fit an QDA with Balance_bin as response:"
   ]
  },
  {
   "cell_type": "code",
   "execution_count": 4,
   "id": "97f49a55",
   "metadata": {},
   "outputs": [
    {
     "name": "stdout",
     "output_type": "stream",
     "text": [
      "Mean Accuracy for QDA: 0.521 (0.096)\n"
     ]
    }
   ],
   "source": [
    "# define model\n",
    "QDA_mod = QuadraticDiscriminantAnalysis()\n",
    "# evaluate model\n",
    "QDA_scores = cross_val_score(QDA_mod, X, y, scoring='accuracy', cv=cv, n_jobs=-1)\n",
    "# summarize result\n",
    "print('Mean Accuracy for QDA: %.3f (%.3f)' % (np.mean(QDA_scores), np.std(QDA_scores)))"
   ]
  },
  {
   "cell_type": "markdown",
   "id": "6d1c13b5",
   "metadata": {},
   "source": [
    "Classification: Fit a Naive Bayes with Balance_bin as response:"
   ]
  },
  {
   "cell_type": "code",
   "execution_count": 5,
   "id": "3d3fd230",
   "metadata": {},
   "outputs": [
    {
     "name": "stdout",
     "output_type": "stream",
     "text": [
      "Mean Accuracy for QDA: 0.616 (0.085)\n"
     ]
    }
   ],
   "source": [
    "# define model\n",
    "NB_mod = GaussianNB()\n",
    "# evaluate model\n",
    "NB_scores = cross_val_score(NB_mod, X, y, scoring='accuracy', cv=cv, n_jobs=-1)\n",
    "# summarize result\n",
    "print('Mean Accuracy for QDA: %.3f (%.3f)' % (np.mean(NB_scores), np.std(NB_scores)))\n",
    "     "
   ]
  },
  {
   "cell_type": "markdown",
   "id": "4c63d0ef",
   "metadata": {},
   "source": [
    "Classification: Fit a Naive Bayes on PCs with Balance_bin as response:"
   ]
  },
  {
   "cell_type": "code",
   "execution_count": 6,
   "id": "01e4cbef",
   "metadata": {},
   "outputs": [
    {
     "name": "stdout",
     "output_type": "stream",
     "text": [
      "0.6875\n",
      "[[0.88888889 0.11111111]\n",
      " [0.47727273 0.52272727]]\n"
     ]
    }
   ],
   "source": [
    "x_train, x_test, y_train, y_test = train_test_split(X, y, test_size=0.2, random_state=0)\n",
    "\n",
    "# PCA\n",
    "std_scale = StandardScaler().fit(x_train)\n",
    "X_train_std = std_scale.transform(x_train)\n",
    "X_test_std = std_scale.transform(x_test)\n",
    "\n",
    "pca = PCA()\n",
    "PCs_train = pd.DataFrame(pca.fit_transform(X_train_std))\n",
    "PCs_test = pd.DataFrame(pca.transform(X_test_std))\n",
    "\n",
    "# define model\n",
    "NB_pc_mod = GaussianNB().fit(PCs_train, y_train)\n",
    "NB_pc_pred = NB_pc_mod.predict(PCs_test)\n",
    "\n",
    "# summarize result\n",
    "print(accuracy_score(y_test, NB_pc_pred))\n",
    "print(confusion_matrix(y_test, NB_pc_pred, normalize='true'))\n",
    "     "
   ]
  },
  {
   "cell_type": "code",
   "execution_count": null,
   "id": "0c516837",
   "metadata": {},
   "outputs": [],
   "source": []
  }
 ],
 "metadata": {
  "kernelspec": {
   "display_name": "Python 3 (ipykernel)",
   "language": "python",
   "name": "python3"
  },
  "language_info": {
   "codemirror_mode": {
    "name": "ipython",
    "version": 3
   },
   "file_extension": ".py",
   "mimetype": "text/x-python",
   "name": "python",
   "nbconvert_exporter": "python",
   "pygments_lexer": "ipython3",
   "version": "3.8.10"
  }
 },
 "nbformat": 4,
 "nbformat_minor": 5
}
