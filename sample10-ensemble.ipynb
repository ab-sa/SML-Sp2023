{
 "cells": [
  {
   "cell_type": "code",
   "execution_count": null,
   "id": "41ccb1f6",
   "metadata": {},
   "outputs": [],
   "source": []
  },
  {
   "cell_type": "code",
   "execution_count": 2,
   "id": "ba873131",
   "metadata": {},
   "outputs": [],
   "source": [
    "import numpy as np\n",
    "import pandas as pd\n",
    "from sklearn.discriminant_analysis import LinearDiscriminantAnalysis, QuadraticDiscriminantAnalysis\n",
    "from sklearn.naive_bayes import GaussianNB\n",
    "from sklearn.decomposition import PCA\n",
    "from sklearn.preprocessing import StandardScaler\n",
    "from sklearn.model_selection import train_test_split, RepeatedKFold, cross_val_score, GridSearchCV\n",
    "import statsmodels.formula.api as smf\n",
    "import statsmodels.api as sm\n",
    "from sklearn.metrics import accuracy_score, confusion_matrix, classification_report, mean_squared_error\n",
    "import matplotlib.pyplot as plt\n",
    "import seaborn as sns\n",
    "from sklearn.tree import DecisionTreeClassifier, DecisionTreeRegressor\n",
    "from sklearn.ensemble import RandomForestRegressor, RandomForestClassifier, BaggingClassifier, BaggingRegressor, GradientBoostingClassifier, GradientBoostingRegressor\n"
   ]
  },
  {
   "cell_type": "code",
   "execution_count": 6,
   "id": "9c81de93",
   "metadata": {},
   "outputs": [
    {
     "name": "stdout",
     "output_type": "stream",
     "text": [
      "Dimension of the data: (400, 10)\n",
      "    Income  Cards  Age  Education  Gender Student Married  Ethnicity  Balance  \\\n",
      "0   14.891      2   34         11    Male      No     Yes  Caucasian      333   \n",
      "1  106.025      3   82         15  Female     Yes     Yes      Asian      903   \n",
      "2  104.593      4   71         11    Male      No      No      Asian      580   \n",
      "3  148.924      3   36         11  Female      No      No      Asian      964   \n",
      "4   55.882      2   68         16    Male      No     Yes  Caucasian      331   \n",
      "\n",
      "  Balance_multi  \n",
      "0             1  \n",
      "1             2  \n",
      "2             1  \n",
      "3             2  \n",
      "4             1  \n",
      "0    0.4000\n",
      "2    0.3475\n",
      "1    0.2525\n",
      "Name: Balance_multi, dtype: float64\n"
     ]
    }
   ],
   "source": [
    "Credit = pd.read_csv('C:/Users/arab/Downloads/Credit.csv')\n",
    "Credit['Balance_multi'] = pd.cut(Credit.Balance, bins=[-1,300,700,2000],labels=[0,1,2])\n",
    "Credit = Credit.drop(['ID', 'Limit', 'Rating'], axis=1)\n",
    "print('Dimension of the data: ' + str(Credit.shape))\n",
    "print(Credit.head())\n",
    "print(Credit['Balance_multi'].value_counts(normalize=True))"
   ]
  },
  {
   "cell_type": "code",
   "execution_count": 7,
   "id": "fa446578",
   "metadata": {},
   "outputs": [],
   "source": [
    "X = pd.get_dummies(Credit.drop(['Balance_multi', 'Balance'], axis=1))\n",
    "y_mult = Credit['Balance_multi']\n",
    "y_cont = Credit['Balance']\n",
    "x_train, x_test, y_mult_train, y_mult_test = train_test_split(X, y_mult, test_size=0.2, random_state=0)\n",
    "x_train, x_test, y_cont_train, y_cont_test = train_test_split(X, y_cont, test_size=0.2, random_state=0)"
   ]
  },
  {
   "cell_type": "code",
   "execution_count": 9,
   "id": "f7065c5b",
   "metadata": {},
   "outputs": [
    {
     "name": "stdout",
     "output_type": "stream",
     "text": [
      "Model accuracy score: 0.4250\n"
     ]
    }
   ],
   "source": [
    "#Ensemble trees: Bagging for classification\n",
    "\n",
    "\n",
    "# define the model\n",
    "clf_bagg = BaggingClassifier(n_estimators = 100, random_state = 0)\n",
    "# Train the model on training data\n",
    "clf_bagg.fit(x_train, y_mult_train)\n",
    "\n",
    "# Use the forest's predict method on the test data\n",
    "clf_bagg_preds = clf_bagg.predict(x_test)\n",
    "print('Model accuracy score: {0:0.4f}'. format(accuracy_score(y_mult_test, clf_bagg_preds)))\n",
    "     "
   ]
  },
  {
   "cell_type": "code",
   "execution_count": 10,
   "id": "f9425cb5",
   "metadata": {},
   "outputs": [
    {
     "name": "stdout",
     "output_type": "stream",
     "text": [
      "MSPE:  166098.31333749997\n"
     ]
    }
   ],
   "source": [
    "#Ensemble trees: Bagging for regression\n",
    "\n",
    "\n",
    "# define the model\n",
    "reg_bagg = BaggingRegressor(n_estimators = 100, random_state = 0)\n",
    "# Train the model on training data\n",
    "reg_bagg.fit(x_train, y_cont_train)\n",
    "\n",
    "# Use the forest's predict method on the test data\n",
    "reg_bagg_preds = reg_bagg.predict(x_test)\n",
    "print('MSPE: ', mean_squared_error(y_cont_test, reg_bagg_preds))"
   ]
  },
  {
   "cell_type": "code",
   "execution_count": 11,
   "id": "8bd9a5e3",
   "metadata": {},
   "outputs": [
    {
     "name": "stdout",
     "output_type": "stream",
     "text": [
      "Model accuracy score: 0.5625\n"
     ]
    }
   ],
   "source": [
    "#Ensemble trees: Random Forest for classification\n",
    "\n",
    "\n",
    "# Instantiate model with 1000 decision trees\n",
    "clf_rf = RandomForestClassifier(n_estimators = 1000, random_state = 0)\n",
    "# Train the model on training data\n",
    "clf_rf.fit(x_train, y_mult_train)\n",
    "\n",
    "# Use the forest's predict method on the test data\n",
    "clf_rf_preds = clf_rf.predict(x_test)\n",
    "print('Model accuracy score: {0:0.4f}'. format(accuracy_score(y_mult_test, clf_rf_preds)))"
   ]
  },
  {
   "cell_type": "code",
   "execution_count": 12,
   "id": "3813569f",
   "metadata": {},
   "outputs": [
    {
     "name": "stdout",
     "output_type": "stream",
     "text": [
      "MSPE:  322242.525\n"
     ]
    }
   ],
   "source": [
    "#Ensemble trees: Random Forest for regreession\n",
    "\n",
    "\n",
    "# Instantiate model with 1000 decision trees\n",
    "reg_rf = RandomForestClassifier(n_estimators = 1000, random_state = 0)\n",
    "# Train the model on training data\n",
    "reg_rf.fit(x_train, y_cont_train)\n",
    "\n",
    "# Use the forest's predict method on the test data\n",
    "reg_rf_preds = reg_rf.predict(x_test)\n",
    "print('MSPE: ', mean_squared_error(y_cont_test, reg_rf_preds))\n",
    "     "
   ]
  },
  {
   "cell_type": "code",
   "execution_count": 13,
   "id": "9ae68af8",
   "metadata": {},
   "outputs": [
    {
     "name": "stdout",
     "output_type": "stream",
     "text": [
      "\n",
      "#### Best hyperparamters ####\n",
      "{'max_features': 3, 'min_samples_leaf': 10}\n"
     ]
    }
   ],
   "source": [
    "#Tune a RF classifier:\n",
    "\n",
    "\n",
    "Parameter_Trials = {'max_features':[2,3,4,5],  # equivalent to R \"mtry\" parameter\n",
    "                    'min_samples_leaf':[1,3,5,7,10]  # equivalent to R \"nodesize\" parameter\n",
    "                   }\n",
    "\n",
    "# Creating the RF model\n",
    "RF_mod = RandomForestClassifier()\n",
    "\n",
    "# Creating the Grid search space\n",
    "grid_search = GridSearchCV(estimator=RF_mod, param_grid=Parameter_Trials, cv=5)\n",
    "\n",
    "# Running Grid Search for different paramenters\n",
    "grid_search.fit(X, y_mult)\n",
    "\n",
    "# printing the best parameters\n",
    "print('\\n#### Best hyperparamters ####')\n",
    "print(grid_search.best_params_)"
   ]
  },
  {
   "cell_type": "code",
   "execution_count": 14,
   "id": "0466c81c",
   "metadata": {},
   "outputs": [
    {
     "name": "stdout",
     "output_type": "stream",
     "text": [
      "Accuracy:  [0.4475 0.4825 0.5175 0.5225 0.52   0.4575 0.4875 0.5025 0.51   0.525\n",
      " 0.4675 0.5075 0.505  0.515  0.5175 0.4675 0.5025 0.515  0.5125 0.5125]\n",
      "Accuracy SE:  [0.02       0.03221025 0.03840573 0.02893959 0.02915476 0.0244949\n",
      " 0.03446012 0.03984344 0.03201562 0.04031129 0.035      0.04650269\n",
      " 0.05787918 0.04062019 0.04153312 0.02318405 0.04430011 0.03297726\n",
      " 0.03446012 0.03446012]\n"
     ]
    },
    {
     "data": {
      "image/png": "[encoded data removed]",
      "text/plain": [
       "<Figure size 432x288 with 1 Axes>"
      ]
     },
     "metadata": {
      "needs_background": "light"
     },
     "output_type": "display_data"
    }
   ],
   "source": [
    "print('Accuracy: ', grid_search.cv_results_['mean_test_score'])\n",
    "print('Accuracy SE: ', grid_search.cv_results_['std_test_score'])\n",
    "\n",
    "params_list = [str(d['max_features']) + '-' + str(d['min_samples_leaf']) for d in grid_search.cv_results_['params']]\n",
    "fig, ax = plt.subplots()\n",
    "ax.errorbar(params_list, grid_search.cv_results_['mean_test_score'], yerr=grid_search.cv_results_['std_test_score'], fmt='.k')\n",
    "plt.xlabel(\"Diff params\")\n",
    "plt.ylabel(\"Accuracy\")\n",
    "plt.show()"
   ]
  },
  {
   "cell_type": "code",
   "execution_count": 15,
   "id": "04f92fe5",
   "metadata": {},
   "outputs": [
    {
     "name": "stdout",
     "output_type": "stream",
     "text": [
      "Model accuracy score: 0.3875\n"
     ]
    }
   ],
   "source": [
    "#Ensemble trees: Gradient Boosting for classification\n",
    "\n",
    "\n",
    "# Instantiate model with 1000 decision trees\n",
    "clf_gb = GradientBoostingClassifier(n_estimators = 1000, random_state = 0)\n",
    "# Train the model on training data\n",
    "clf_gb.fit(x_train, y_mult_train)\n",
    "\n",
    "# Use the forest's predict method on the test data\n",
    "clf_gb_preds = clf_gb.predict(x_test)\n",
    "print('Model accuracy score: {0:0.4f}'. format(accuracy_score(y_mult_test, clf_gb_preds)))"
   ]
  },
  {
   "cell_type": "code",
   "execution_count": 16,
   "id": "4c2e9590",
   "metadata": {},
   "outputs": [
    {
     "name": "stdout",
     "output_type": "stream",
     "text": [
      "MSPE:  250118.83087738775\n"
     ]
    }
   ],
   "source": [
    "#Ensemble trees: Gradient Boosting for regression\n",
    "\n",
    "\n",
    "# Instantiate model with 1000 decision trees\n",
    "reg_gb = GradientBoostingRegressor(n_estimators = 1000, random_state = 0)\n",
    "# Train the model on training data\n",
    "reg_gb.fit(x_train, y_cont_train)\n",
    "\n",
    "# Use the forest's predict method on the test data\n",
    "reg_gb_preds = reg_gb.predict(x_test)\n",
    "print('MSPE: ', mean_squared_error(y_cont_test, reg_gb_preds))\n",
    "     "
   ]
  },
  {
   "cell_type": "code",
   "execution_count": null,
   "id": "a127f756",
   "metadata": {},
   "outputs": [],
   "source": []
  }
 ],
 "metadata": {
  "kernelspec": {
   "display_name": "Python 3 (ipykernel)",
   "language": "python",
   "name": "python3"
  },
  "language_info": {
   "codemirror_mode": {
    "name": "ipython",
    "version": 3
   },
   "file_extension": ".py",
   "mimetype": "text/x-python",
   "name": "python",
   "nbconvert_exporter": "python",
   "pygments_lexer": "ipython3",
   "version": "3.8.10"
  }
 },
 "nbformat": 4,
 "nbformat_minor": 5
}
