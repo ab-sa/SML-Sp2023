{
 "cells": [
  {
   "cell_type": "code",
   "execution_count": 1,
   "id": "0ef35622",
   "metadata": {},
   "outputs": [],
   "source": [
    "import numpy as np\n",
    "import pandas as pd\n",
    "from sklearn import linear_model\n",
    "from sklearn.linear_model import LinearRegression\n",
    "from sklearn.preprocessing import StandardScaler, MinMaxScaler\n",
    "from sklearn.model_selection import train_test_split, RepeatedKFold, cross_val_score\n",
    "import statsmodels.formula.api as smf\n",
    "import statsmodels.api as sm\n",
    "from sklearn.metrics import accuracy_score, confusion_matrix\n",
    "import matplotlib.pyplot as plt\n",
    "import seaborn as sns"
   ]
  },
  {
   "cell_type": "code",
   "execution_count": 3,
   "id": "e2c46ee2",
   "metadata": {},
   "outputs": [
    {
     "name": "stdout",
     "output_type": "stream",
     "text": [
      "Dimension of the data: (400, 12)\n"
     ]
    },
    {
     "data": {
      "text/html": [
       "<div>\n",
       "<style scoped>\n",
       "    .dataframe tbody tr th:only-of-type {\n",
       "        vertical-align: middle;\n",
       "    }\n",
       "\n",
       "    .dataframe tbody tr th {\n",
       "        vertical-align: top;\n",
       "    }\n",
       "\n",
       "    .dataframe thead th {\n",
       "        text-align: right;\n",
       "    }\n",
       "</style>\n",
       "<table border=\"1\" class=\"dataframe\">\n",
       "  <thead>\n",
       "    <tr style=\"text-align: right;\">\n",
       "      <th></th>\n",
       "      <th>ID</th>\n",
       "      <th>Income</th>\n",
       "      <th>Limit</th>\n",
       "      <th>Rating</th>\n",
       "      <th>Cards</th>\n",
       "      <th>Age</th>\n",
       "      <th>Education</th>\n",
       "      <th>Gender</th>\n",
       "      <th>Student</th>\n",
       "      <th>Married</th>\n",
       "      <th>Ethnicity</th>\n",
       "      <th>Balance</th>\n",
       "    </tr>\n",
       "  </thead>\n",
       "  <tbody>\n",
       "    <tr>\n",
       "      <th>0</th>\n",
       "      <td>1</td>\n",
       "      <td>14.891</td>\n",
       "      <td>3606</td>\n",
       "      <td>283</td>\n",
       "      <td>2</td>\n",
       "      <td>34</td>\n",
       "      <td>11</td>\n",
       "      <td>Male</td>\n",
       "      <td>No</td>\n",
       "      <td>Yes</td>\n",
       "      <td>Caucasian</td>\n",
       "      <td>333</td>\n",
       "    </tr>\n",
       "    <tr>\n",
       "      <th>1</th>\n",
       "      <td>2</td>\n",
       "      <td>106.025</td>\n",
       "      <td>6645</td>\n",
       "      <td>483</td>\n",
       "      <td>3</td>\n",
       "      <td>82</td>\n",
       "      <td>15</td>\n",
       "      <td>Female</td>\n",
       "      <td>Yes</td>\n",
       "      <td>Yes</td>\n",
       "      <td>Asian</td>\n",
       "      <td>903</td>\n",
       "    </tr>\n",
       "    <tr>\n",
       "      <th>2</th>\n",
       "      <td>3</td>\n",
       "      <td>104.593</td>\n",
       "      <td>7075</td>\n",
       "      <td>514</td>\n",
       "      <td>4</td>\n",
       "      <td>71</td>\n",
       "      <td>11</td>\n",
       "      <td>Male</td>\n",
       "      <td>No</td>\n",
       "      <td>No</td>\n",
       "      <td>Asian</td>\n",
       "      <td>580</td>\n",
       "    </tr>\n",
       "    <tr>\n",
       "      <th>3</th>\n",
       "      <td>4</td>\n",
       "      <td>148.924</td>\n",
       "      <td>9504</td>\n",
       "      <td>681</td>\n",
       "      <td>3</td>\n",
       "      <td>36</td>\n",
       "      <td>11</td>\n",
       "      <td>Female</td>\n",
       "      <td>No</td>\n",
       "      <td>No</td>\n",
       "      <td>Asian</td>\n",
       "      <td>964</td>\n",
       "    </tr>\n",
       "    <tr>\n",
       "      <th>4</th>\n",
       "      <td>5</td>\n",
       "      <td>55.882</td>\n",
       "      <td>4897</td>\n",
       "      <td>357</td>\n",
       "      <td>2</td>\n",
       "      <td>68</td>\n",
       "      <td>16</td>\n",
       "      <td>Male</td>\n",
       "      <td>No</td>\n",
       "      <td>Yes</td>\n",
       "      <td>Caucasian</td>\n",
       "      <td>331</td>\n",
       "    </tr>\n",
       "  </tbody>\n",
       "</table>\n",
       "</div>"
      ],
      "text/plain": [
       "   ID   Income  Limit  Rating  Cards  Age  Education  Gender Student Married  \\\n",
       "0   1   14.891   3606     283      2   34         11    Male      No     Yes   \n",
       "1   2  106.025   6645     483      3   82         15  Female     Yes     Yes   \n",
       "2   3  104.593   7075     514      4   71         11    Male      No      No   \n",
       "3   4  148.924   9504     681      3   36         11  Female      No      No   \n",
       "4   5   55.882   4897     357      2   68         16    Male      No     Yes   \n",
       "\n",
       "   Ethnicity  Balance  \n",
       "0  Caucasian      333  \n",
       "1      Asian      903  \n",
       "2      Asian      580  \n",
       "3      Asian      964  \n",
       "4  Caucasian      331  "
      ]
     },
     "execution_count": 3,
     "metadata": {},
     "output_type": "execute_result"
    }
   ],
   "source": [
    "Credit = pd.read_csv(\"C:/Users/arab/Downloads/Credit.csv\")\n",
    "print('Dimension of the data: ' + str(Credit.shape))\n",
    "Credit.head()\n",
    "     "
   ]
  },
  {
   "cell_type": "code",
   "execution_count": 4,
   "id": "ce7ffccd",
   "metadata": {},
   "outputs": [
    {
     "name": "stdout",
     "output_type": "stream",
     "text": [
      "0    0.59\n",
      "1    0.41\n",
      "Name: Balance_bin, dtype: float64\n"
     ]
    },
    {
     "data": {
      "text/html": [
       "<div>\n",
       "<style scoped>\n",
       "    .dataframe tbody tr th:only-of-type {\n",
       "        vertical-align: middle;\n",
       "    }\n",
       "\n",
       "    .dataframe tbody tr th {\n",
       "        vertical-align: top;\n",
       "    }\n",
       "\n",
       "    .dataframe thead th {\n",
       "        text-align: right;\n",
       "    }\n",
       "</style>\n",
       "<table border=\"1\" class=\"dataframe\">\n",
       "  <thead>\n",
       "    <tr style=\"text-align: right;\">\n",
       "      <th></th>\n",
       "      <th>ID</th>\n",
       "      <th>Income</th>\n",
       "      <th>Limit</th>\n",
       "      <th>Rating</th>\n",
       "      <th>Cards</th>\n",
       "      <th>Age</th>\n",
       "      <th>Education</th>\n",
       "      <th>Gender</th>\n",
       "      <th>Student</th>\n",
       "      <th>Married</th>\n",
       "      <th>Ethnicity</th>\n",
       "      <th>Balance</th>\n",
       "      <th>Balance_bin</th>\n",
       "    </tr>\n",
       "  </thead>\n",
       "  <tbody>\n",
       "    <tr>\n",
       "      <th>0</th>\n",
       "      <td>1</td>\n",
       "      <td>14.891</td>\n",
       "      <td>3606</td>\n",
       "      <td>283</td>\n",
       "      <td>2</td>\n",
       "      <td>34</td>\n",
       "      <td>11</td>\n",
       "      <td>Male</td>\n",
       "      <td>No</td>\n",
       "      <td>Yes</td>\n",
       "      <td>Caucasian</td>\n",
       "      <td>333</td>\n",
       "      <td>0</td>\n",
       "    </tr>\n",
       "    <tr>\n",
       "      <th>1</th>\n",
       "      <td>2</td>\n",
       "      <td>106.025</td>\n",
       "      <td>6645</td>\n",
       "      <td>483</td>\n",
       "      <td>3</td>\n",
       "      <td>82</td>\n",
       "      <td>15</td>\n",
       "      <td>Female</td>\n",
       "      <td>Yes</td>\n",
       "      <td>Yes</td>\n",
       "      <td>Asian</td>\n",
       "      <td>903</td>\n",
       "      <td>1</td>\n",
       "    </tr>\n",
       "    <tr>\n",
       "      <th>2</th>\n",
       "      <td>3</td>\n",
       "      <td>104.593</td>\n",
       "      <td>7075</td>\n",
       "      <td>514</td>\n",
       "      <td>4</td>\n",
       "      <td>71</td>\n",
       "      <td>11</td>\n",
       "      <td>Male</td>\n",
       "      <td>No</td>\n",
       "      <td>No</td>\n",
       "      <td>Asian</td>\n",
       "      <td>580</td>\n",
       "      <td>0</td>\n",
       "    </tr>\n",
       "    <tr>\n",
       "      <th>3</th>\n",
       "      <td>4</td>\n",
       "      <td>148.924</td>\n",
       "      <td>9504</td>\n",
       "      <td>681</td>\n",
       "      <td>3</td>\n",
       "      <td>36</td>\n",
       "      <td>11</td>\n",
       "      <td>Female</td>\n",
       "      <td>No</td>\n",
       "      <td>No</td>\n",
       "      <td>Asian</td>\n",
       "      <td>964</td>\n",
       "      <td>1</td>\n",
       "    </tr>\n",
       "    <tr>\n",
       "      <th>4</th>\n",
       "      <td>5</td>\n",
       "      <td>55.882</td>\n",
       "      <td>4897</td>\n",
       "      <td>357</td>\n",
       "      <td>2</td>\n",
       "      <td>68</td>\n",
       "      <td>16</td>\n",
       "      <td>Male</td>\n",
       "      <td>No</td>\n",
       "      <td>Yes</td>\n",
       "      <td>Caucasian</td>\n",
       "      <td>331</td>\n",
       "      <td>0</td>\n",
       "    </tr>\n",
       "  </tbody>\n",
       "</table>\n",
       "</div>"
      ],
      "text/plain": [
       "   ID   Income  Limit  Rating  Cards  Age  Education  Gender Student Married  \\\n",
       "0   1   14.891   3606     283      2   34         11    Male      No     Yes   \n",
       "1   2  106.025   6645     483      3   82         15  Female     Yes     Yes   \n",
       "2   3  104.593   7075     514      4   71         11    Male      No      No   \n",
       "3   4  148.924   9504     681      3   36         11  Female      No      No   \n",
       "4   5   55.882   4897     357      2   68         16    Male      No     Yes   \n",
       "\n",
       "   Ethnicity  Balance Balance_bin  \n",
       "0  Caucasian      333           0  \n",
       "1      Asian      903           1  \n",
       "2      Asian      580           0  \n",
       "3      Asian      964           1  \n",
       "4  Caucasian      331           0  "
      ]
     },
     "execution_count": 4,
     "metadata": {},
     "output_type": "execute_result"
    }
   ],
   "source": [
    "Credit.describe()\n",
    "Credit['Balance_bin'] = pd.cut(Credit.Balance, bins=[-1,600,2000], labels=[0,1])\n",
    "print(Credit['Balance_bin'].value_counts(normalize=True))\n",
    "Credit.head()"
   ]
  },
  {
   "cell_type": "markdown",
   "id": "96c05c63",
   "metadata": {},
   "source": [
    "Classification: Fit a logistic regression model with no regularizations on Balance_bin as response:"
   ]
  },
  {
   "cell_type": "code",
   "execution_count": 5,
   "id": "1d0dd427",
   "metadata": {},
   "outputs": [
    {
     "name": "stdout",
     "output_type": "stream",
     "text": [
      "Accuracy: 0.664 (0.079)\n"
     ]
    }
   ],
   "source": [
    "# data: dropping the credit-card related features (Limit & Rating) to make the classification problem more challenging\n",
    "X = pd.get_dummies(Credit.drop(['ID', 'Balance', 'Balance_bin', 'Limit', 'Rating'], axis=1))\n",
    "y = Credit['Balance_bin']\n",
    "\n",
    "# prepare the cross-validation procedure\n",
    "cv = RepeatedKFold(n_splits=10, n_repeats=3, random_state=1)\n",
    "# create model\n",
    "model = linear_model.LogisticRegression(penalty='none')\n",
    "# evaluate model\n",
    "scores = cross_val_score(model, X, y, scoring='accuracy', cv=cv, n_jobs=-1)\n",
    "\n",
    "# report performance\n",
    "print('Accuracy: %.3f (%.3f)' % (np.mean(scores), np.std(scores)))\n",
    "     "
   ]
  },
  {
   "cell_type": "markdown",
   "id": "9e97f18e",
   "metadata": {},
   "source": [
    "LR test from ANOVA for each predictor:"
   ]
  },
  {
   "cell_type": "code",
   "execution_count": 6,
   "id": "fe738419",
   "metadata": {},
   "outputs": [
    {
     "data": {
      "text/plain": [
       "('F stat ', 38.940506674167636, ' P-Val: ', 1.1193369874683984e-09)"
      ]
     },
     "execution_count": 6,
     "metadata": {},
     "output_type": "execute_result"
    }
   ],
   "source": [
    "from scipy import stats\n",
    "\n",
    "def calculate_nested_f_statistic(small_model, big_model):\n",
    "    \"\"\"Given two fitted GLMs, the larger of which contains the parameter space of the smaller, return the F Stat and P value corresponding to the larger model adding explanatory power\"\"\"\n",
    "    addtl_params = big_model.df_model - small_model.df_model\n",
    "    f_stat = (small_model.deviance - big_model.deviance) / (addtl_params * big_model.scale)\n",
    "    df_numerator = addtl_params\n",
    "    # use fitted values to obtain n_obs from model object:\n",
    "    df_denom = (big_model.fittedvalues.shape[0] - big_model.df_model)\n",
    "    p_value = stats.f.sf(f_stat, df_numerator, df_denom)\n",
    "    return ('F stat ', f_stat, ' P-Val: ', p_value)\n",
    "\n",
    "from statsmodels.genmod.generalized_linear_model import GLM\n",
    "from statsmodels.genmod import families\n",
    "\n",
    "X_norm = pd.DataFrame(MinMaxScaler().fit_transform(X), columns = X.columns)\n",
    "model_full = GLM(y, X_norm[[\"Age\", \"Education\", \"Income\"]], family=families.Binomial(),).fit()\n",
    "model_red = GLM(y, X_norm[[\"Age\", \"Education\"]], family=families.Binomial(),).fit()\n",
    "calculate_nested_f_statistic(model_red, model_full)"
   ]
  },
  {
   "cell_type": "markdown",
   "id": "29af99b8",
   "metadata": {},
   "source": [
    "Logistic regression model with LASSO regularization:"
   ]
  },
  {
   "cell_type": "code",
   "execution_count": 9,
   "id": "95e6b7d3",
   "metadata": {},
   "outputs": [
    {
     "name": "stdout",
     "output_type": "stream",
     "text": [
      "Best regularization parameter (inverse of lambda):  [0.35938137]\n",
      "Model accuracy:  0.6875\n",
      "Confusion matrix with counts: \n",
      "[[205  31]\n",
      " [ 94  70]]\n",
      "Confusion matrix with proportions: \n",
      "[[0.86864407 0.13135593]\n",
      " [0.57317073 0.42682927]]\n"
     ]
    }
   ],
   "source": [
    "modelCV = linear_model.LogisticRegressionCV(penalty='l1', solver='liblinear', cv=5, random_state=0, max_iter=1000).fit(X, y)\n",
    "print('Best regularization parameter (inverse of lambda): ', modelCV.C_)\n",
    "print('Model accuracy: ', modelCV.score(X, y))\n",
    "y_pred = modelCV.predict(X)\n",
    "print('Confusion matrix with counts: ')\n",
    "print(confusion_matrix(y, y_pred))\n",
    "print('Confusion matrix with proportions: ')\n",
    "print(confusion_matrix(y, y_pred, normalize='true'))"
   ]
  },
  {
   "cell_type": "markdown",
   "id": "968a8cda",
   "metadata": {},
   "source": [
    "Multi-class: Create a three-class version of balance"
   ]
  },
  {
   "cell_type": "code",
   "execution_count": 10,
   "id": "84489241",
   "metadata": {},
   "outputs": [
    {
     "name": "stdout",
     "output_type": "stream",
     "text": [
      "0    0.4000\n",
      "2    0.3475\n",
      "1    0.2525\n",
      "Name: Balance, dtype: float64\n"
     ]
    }
   ],
   "source": [
    "y_multi = pd.cut(Credit.Balance, bins=[-1,300,700,2000], labels=['0','1','2'])\n",
    "print(y_multi.value_counts(normalize=True))\n",
    "     "
   ]
  },
  {
   "cell_type": "markdown",
   "id": "a560febf",
   "metadata": {},
   "source": [
    "Multinomial regression model: no regularization."
   ]
  },
  {
   "cell_type": "code",
   "execution_count": 12,
   "id": "22c90fb7",
   "metadata": {},
   "outputs": [
    {
     "name": "stdout",
     "output_type": "stream",
     "text": [
      "Accuracy: 0.513 (0.075)\n"
     ]
    }
   ],
   "source": [
    "# create model\n",
    "model = linear_model.LogisticRegression(penalty='none')\n",
    "# evaluate model\n",
    "scores = cross_val_score(model, X, y_multi, scoring='accuracy', cv=cv, n_jobs=-1)\n",
    "\n",
    "# report performance\n",
    "print('Accuracy: %.3f (%.3f)' % (np.mean(scores), np.std(scores)))"
   ]
  },
  {
   "cell_type": "markdown",
   "id": "3c266912",
   "metadata": {},
   "source": [
    "Multinomial regression model with LASSO regularization."
   ]
  },
  {
   "cell_type": "code",
   "execution_count": 14,
   "id": "f6f65d26",
   "metadata": {},
   "outputs": [
    {
     "name": "stdout",
     "output_type": "stream",
     "text": [
      "Best regularization parameter:  [5.99484250e-03 1.00000000e-04 3.59381366e-01]\n",
      "Model accuracy:  0.4175\n",
      "Confusion matrix with counts: \n",
      "[[ 41 106  13]\n",
      " [ 17  71  13]\n",
      " [ 16  68  55]]\n",
      "Confusion matrix with proportions: \n",
      "[[0.25625    0.6625     0.08125   ]\n",
      " [0.16831683 0.7029703  0.12871287]\n",
      " [0.11510791 0.48920863 0.39568345]]\n"
     ]
    }
   ],
   "source": [
    "MultiModelCV = linear_model.LogisticRegressionCV(penalty='l1', solver='liblinear', cv=5, random_state=0, max_iter=1000).fit(X, y_multi)\n",
    "print('Best regularization parameter: ', MultiModelCV.C_)\n",
    "print('Model accuracy: ', MultiModelCV.score(X, y_multi))\n",
    "y_pred = MultiModelCV.predict(X)\n",
    "print('Confusion matrix with counts: ')\n",
    "print(confusion_matrix(y_multi, y_pred))\n",
    "print('Confusion matrix with proportions: ')\n",
    "print(confusion_matrix(y_multi, y_pred, normalize='true'))"
   ]
  },
  {
   "cell_type": "code",
   "execution_count": null,
   "id": "06a56c3d",
   "metadata": {},
   "outputs": [],
   "source": []
  }
 ],
 "metadata": {
  "kernelspec": {
   "display_name": "Python 3 (ipykernel)",
   "language": "python",
   "name": "python3"
  },
  "language_info": {
   "codemirror_mode": {
    "name": "ipython",
    "version": 3
   },
   "file_extension": ".py",
   "mimetype": "text/x-python",
   "name": "python",
   "nbconvert_exporter": "python",
   "pygments_lexer": "ipython3",
   "version": "3.8.10"
  }
 },
 "nbformat": 4,
 "nbformat_minor": 5
}
