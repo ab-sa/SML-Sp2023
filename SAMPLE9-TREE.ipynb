{
 "cells": [
  {
   "cell_type": "code",
   "execution_count": 1,
   "id": "5b6ddd3e",
   "metadata": {},
   "outputs": [],
   "source": [
    "import numpy as np\n",
    "import pandas as pd\n",
    "from sklearn.discriminant_analysis import LinearDiscriminantAnalysis, QuadraticDiscriminantAnalysis\n",
    "from sklearn.naive_bayes import GaussianNB\n",
    "from sklearn.decomposition import PCA\n",
    "from sklearn.preprocessing import StandardScaler\n",
    "from sklearn.model_selection import train_test_split, RepeatedKFold, cross_val_score, GridSearchCV\n",
    "import statsmodels.formula.api as smf\n",
    "import statsmodels.api as sm\n",
    "from sklearn.metrics import accuracy_score, confusion_matrix, classification_report, mean_squared_error\n",
    "import matplotlib.pyplot as plt\n",
    "import seaborn as sns\n",
    "from sklearn.tree import DecisionTreeClassifier, DecisionTreeRegressor\n",
    "from sklearn.ensemble import RandomForestRegressor, RandomForestClassifier, BaggingClassifier, BaggingRegressor"
   ]
  },
  {
   "cell_type": "code",
   "execution_count": 3,
   "id": "9e1f7e92",
   "metadata": {},
   "outputs": [
    {
     "name": "stdout",
     "output_type": "stream",
     "text": [
      "Dimension of the data: (400, 10)\n",
      "    Income  Cards  Age  Education  Gender Student Married  Ethnicity  Balance  \\\n",
      "0   14.891      2   34         11    Male      No     Yes  Caucasian      333   \n",
      "1  106.025      3   82         15  Female     Yes     Yes      Asian      903   \n",
      "2  104.593      4   71         11    Male      No      No      Asian      580   \n",
      "3  148.924      3   36         11  Female      No      No      Asian      964   \n",
      "4   55.882      2   68         16    Male      No     Yes  Caucasian      331   \n",
      "\n",
      "  Balance_multi  \n",
      "0             1  \n",
      "1             2  \n",
      "2             1  \n",
      "3             2  \n",
      "4             1  \n",
      "0    0.4000\n",
      "2    0.3475\n",
      "1    0.2525\n",
      "Name: Balance_multi, dtype: float64\n"
     ]
    }
   ],
   "source": [
    "Credit = pd.read_csv(\"\")\n",
    "Credit['Balance_multi'] = pd.cut(Credit.Balance, bins=[-1,300,700,2000],labels=[0,1,2])\n",
    "Credit = Credit.drop(['ID', 'Limit', 'Rating'], axis=1)\n",
    "print('Dimension of the data: ' + str(Credit.shape))\n",
    "print(Credit.head())\n",
    "print(Credit['Balance_multi'].value_counts(normalize=True))\n",
    "     "
   ]
  },
  {
   "cell_type": "markdown",
   "id": "a0260233",
   "metadata": {},
   "source": [
    "Data spliting: for both classification and regression"
   ]
  },
  {
   "cell_type": "code",
   "execution_count": 4,
   "id": "25d2c62c",
   "metadata": {},
   "outputs": [],
   "source": [
    "X = pd.get_dummies(Credit.drop(['Balance_multi', 'Balance'], axis=1))\n",
    "y_mult = Credit['Balance_multi']\n",
    "y_cont = Credit['Balance']\n",
    "x_train, x_test, y_mult_train, y_mult_test = train_test_split(X, y_mult, test_size=0.2, random_state=0)\n",
    "x_train, x_test, y_cont_train, y_cont_test = train_test_split(X, y_cont, test_size=0.2, random_state=0)\n",
    "     "
   ]
  },
  {
   "cell_type": "markdown",
   "id": "0b5e72b3",
   "metadata": {},
   "source": [
    "Classification tree:"
   ]
  },
  {
   "cell_type": "code",
   "execution_count": 6,
   "id": "66827948",
   "metadata": {},
   "outputs": [
    {
     "name": "stdout",
     "output_type": "stream",
     "text": [
      "Model accuracy score with criterion entropy: 0.5625\n",
      "              precision    recall  f1-score   support\n",
      "\n",
      "           0       0.54      0.86      0.67        29\n",
      "           1       1.00      0.04      0.08        23\n",
      "           2       0.58      0.68      0.62        28\n",
      "\n",
      "    accuracy                           0.56        80\n",
      "   macro avg       0.71      0.53      0.46        80\n",
      "weighted avg       0.69      0.56      0.48        80\n",
      "\n",
      "[[25  0  4]\n",
      " [12  1 10]\n",
      " [ 9  0 19]]\n"
     ]
    }
   ],
   "source": [
    "clf_tree = DecisionTreeClassifier(criterion='entropy', max_depth=3, random_state=0)\n",
    "clf_tree.fit(x_train, y_mult_train)\n",
    "clf_tree_pred = clf_tree.predict(x_test)\n",
    "\n",
    "print('Model accuracy score with criterion entropy: {0:0.4f}'. format(accuracy_score(y_mult_test, clf_tree_pred)))\n",
    "print(classification_report(y_mult_test, clf_tree_pred))\n",
    "print(confusion_matrix(y_mult_test, clf_tree_pred))"
   ]
  },
  {
   "cell_type": "markdown",
   "id": "ec5301c6",
   "metadata": {},
   "source": [
    "Regression tree:"
   ]
  },
  {
   "cell_type": "code",
   "execution_count": 7,
   "id": "9c1b4a8f",
   "metadata": {},
   "outputs": [
    {
     "name": "stdout",
     "output_type": "stream",
     "text": [
      "MSPE:  167864.712488959\n"
     ]
    }
   ],
   "source": [
    "reg_tree = DecisionTreeRegressor(max_depth=3, random_state=0)\n",
    "reg_tree.fit(x_train, y_cont_train)\n",
    "reg_tree_pred = reg_tree.predict(x_test)\n",
    "\n",
    "print('MSPE: ', mean_squared_error(y_cont_test, reg_tree_pred))\n",
    "     "
   ]
  },
  {
   "cell_type": "markdown",
   "id": "d73ec6dd",
   "metadata": {},
   "source": [
    "Ensemble trees: Bagging for classification"
   ]
  },
  {
   "cell_type": "code",
   "execution_count": 8,
   "id": "423bfcc0",
   "metadata": {},
   "outputs": [
    {
     "name": "stdout",
     "output_type": "stream",
     "text": [
      "Model accuracy score: 0.4250\n"
     ]
    }
   ],
   "source": [
    "# define the model\n",
    "clf_bagg = BaggingClassifier(n_estimators = 100, random_state = 0)\n",
    "# Train the model on training data\n",
    "clf_bagg.fit(x_train, y_mult_train)\n",
    "\n",
    "# Use the forest's predict method on the test data\n",
    "clf_bagg_preds = clf_bagg.predict(x_test)\n",
    "print('Model accuracy score: {0:0.4f}'. format(accuracy_score(y_mult_test, clf_bagg_preds)))\n",
    "     "
   ]
  },
  {
   "cell_type": "markdown",
   "id": "419667b5",
   "metadata": {},
   "source": [
    "Ensemble trees: Bagging for regression"
   ]
  },
  {
   "cell_type": "code",
   "execution_count": 9,
   "id": "75bd7064",
   "metadata": {},
   "outputs": [
    {
     "name": "stdout",
     "output_type": "stream",
     "text": [
      "MSPE:  166098.31333749997\n"
     ]
    }
   ],
   "source": [
    "# define the model\n",
    "reg_bagg = BaggingRegressor(n_estimators = 100, random_state = 0)\n",
    "# Train the model on training data\n",
    "reg_bagg.fit(x_train, y_cont_train)\n",
    "\n",
    "# Use the forest's predict method on the test data\n",
    "reg_bagg_preds = reg_bagg.predict(x_test)\n",
    "print('MSPE: ', mean_squared_error(y_cont_test, reg_bagg_preds))\n",
    "     "
   ]
  },
  {
   "cell_type": "markdown",
   "id": "12b803ed",
   "metadata": {},
   "source": [
    "Ensemble trees: Random Forest for classification"
   ]
  },
  {
   "cell_type": "code",
   "execution_count": 10,
   "id": "db5a3f97",
   "metadata": {},
   "outputs": [
    {
     "name": "stdout",
     "output_type": "stream",
     "text": [
      "Model accuracy score: 0.5625\n"
     ]
    }
   ],
   "source": [
    "# Instantiate model with 1000 decision trees\n",
    "clf_rf = RandomForestClassifier(n_estimators = 1000, random_state = 0)\n",
    "# Train the model on training data\n",
    "clf_rf.fit(x_train, y_mult_train)\n",
    "\n",
    "# Use the forest's predict method on the test data\n",
    "clf_rf_preds = clf_rf.predict(x_test)\n",
    "print('Model accuracy score: {0:0.4f}'. format(accuracy_score(y_mult_test, clf_rf_preds)))"
   ]
  },
  {
   "cell_type": "markdown",
   "id": "e7eb2eae",
   "metadata": {},
   "source": [
    "Ensemble trees: Random Forest for regreession\n",
    "\n"
   ]
  },
  {
   "cell_type": "code",
   "execution_count": 11,
   "id": "ba335871",
   "metadata": {},
   "outputs": [
    {
     "name": "stdout",
     "output_type": "stream",
     "text": [
      "MSPE:  160865.3518365\n"
     ]
    }
   ],
   "source": [
    "# Instantiate model with 1000 decision trees\n",
    "reg_rf = RandomForestRegressor(n_estimators = 1000, random_state = 0)\n",
    "# Train the model on training data\n",
    "reg_rf.fit(x_train, y_cont_train)\n",
    "\n",
    "# Use the forest's predict method on the test data\n",
    "reg_rf_preds = reg_rf.predict(x_test)\n",
    "print('MSPE: ', mean_squared_error(y_cont_test, reg_rf_preds))"
   ]
  },
  {
   "cell_type": "markdown",
   "id": "c5bdde31",
   "metadata": {},
   "source": [
    "Tune a RF classifier:"
   ]
  },
  {
   "cell_type": "code",
   "execution_count": 12,
   "id": "2d9549b6",
   "metadata": {},
   "outputs": [
    {
     "name": "stdout",
     "output_type": "stream",
     "text": [
      "\n",
      "#### Best hyperparamters ####\n",
      "{'max_features': 3, 'min_samples_leaf': 7}\n"
     ]
    }
   ],
   "source": [
    "Parameter_Trials = {'max_features':[1,2,3],  # equivalent to R \"mtry\" parameter\n",
    "                    'min_samples_leaf':[1,3,5,7,10]  # equivalent to R \"nodesize\" parameter\n",
    "                   }\n",
    "\n",
    "# Creating the RF model\n",
    "RF_mod = RandomForestClassifier()\n",
    "\n",
    "# Creating the Grid search space\n",
    "grid_search = GridSearchCV(estimator=RF_mod, param_grid=Parameter_Trials, cv=5)\n",
    "\n",
    "# Running Grid Search for different paramenters\n",
    "grid_search.fit(X, y_mult)\n",
    "\n",
    "# printing the best parameters\n",
    "print('\\n#### Best hyperparamters ####')\n",
    "print(grid_search.best_params_)"
   ]
  },
  {
   "cell_type": "code",
   "execution_count": 14,
   "id": "e9f9cd3f",
   "metadata": {},
   "outputs": [
    {
     "name": "stdout",
     "output_type": "stream",
     "text": [
      "ACCURACY:  [0.4325 0.4925 0.4925 0.49   0.5025 0.435  0.495  0.52   0.5125 0.5125\n",
      " 0.4625 0.485  0.5025 0.5275 0.5175]\n",
      "ACCURACY SE:  [0.03020761 0.03020761 0.02915476 0.03482097 0.0266927  0.02150581\n",
      " 0.03316625 0.04513868 0.0295804  0.04330127 0.025      0.02150581\n",
      " 0.03102418 0.02       0.01870829]\n"
     ]
    },
    {
     "data": {
      "image/png": "[encoded data removed]",
      "text/plain": [
       "<Figure size 432x288 with 1 Axes>"
      ]
     },
     "metadata": {
      "needs_background": "light"
     },
     "output_type": "display_data"
    }
   ],
   "source": [
    "print('ACCURACY: ', grid_search.cv_results_['mean_test_score'])\n",
    "print('ACCURACY SE: ', grid_search.cv_results_['std_test_score'])\n",
    "\n",
    "params_list = [str(d['max_features']) + '-' + str(d['min_samples_leaf']) for d in grid_search.cv_results_['params']]\n",
    "fig, ax = plt.subplots()\n",
    "ax.errorbar(params_list, grid_search.cv_results_['mean_test_score'], yerr=grid_search.cv_results_['std_test_score'], fmt='.k')\n",
    "plt.xlabel(\"Diff params\")\n",
    "plt.ylabel(\"ACCURACY\")\n",
    "plt.show()"
   ]
  },
  {
   "cell_type": "code",
   "execution_count": null,
   "id": "14072de2",
   "metadata": {},
   "outputs": [],
   "source": []
  }
 ],
 "metadata": {
  "kernelspec": {
   "display_name": "Python 3 (ipykernel)",
   "language": "python",
   "name": "python3"
  },
  "language_info": {
   "codemirror_mode": {
    "name": "ipython",
    "version": 3
   },
   "file_extension": ".py",
   "mimetype": "text/x-python",
   "name": "python",
   "nbconvert_exporter": "python",
   "pygments_lexer": "ipython3",
   "version": "3.8.10"
  }
 },
 "nbformat": 4,
 "nbformat_minor": 5
}
